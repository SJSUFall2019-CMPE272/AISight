{
 "cells": [
  {
   "cell_type": "markdown",
   "metadata": {},
   "source": [
    "## Mount google Drive "
   ]
  },
  {
   "cell_type": "code",
   "execution_count": null,
   "metadata": {
    "colab": {},
    "colab_type": "code",
    "id": "NCAYB7Evjr4H"
   },
   "outputs": [],
   "source": [
    "from google.colab import drive\n",
    "drive.mount('/content/drive')"
   ]
  },
  {
   "cell_type": "markdown",
   "metadata": {},
   "source": [
    "## Import necessary libraries"
   ]
  },
  {
   "cell_type": "code",
   "execution_count": 0,
   "metadata": {
    "colab": {},
    "colab_type": "code",
    "id": "U8l4RJ0XRPEm"
   },
   "outputs": [],
   "source": [
    "import pandas as pd\n",
    "import urllib.request as request\n",
    "import progressbar\n",
    "import time\n",
    "import threading\n",
    "import numpy as np\n",
    "import os\n",
    "from PIL import Image"
   ]
  },
  {
   "cell_type": "markdown",
   "metadata": {},
   "source": [
    "## Set directory path to save downloaded images"
   ]
  },
  {
   "cell_type": "code",
   "execution_count": 0,
   "metadata": {
    "colab": {},
    "colab_type": "code",
    "id": "VbuO9lMOkwmO"
   },
   "outputs": [],
   "source": [
    "train_file = \"/content/drive/Shared drives/AISight/Google Dataset/Train_GCC-training.tsv\"\n",
    "photos_dir = \"/content/drive/Shared drives/AISight/Google Dataset/gadgets\""
   ]
  },
  {
   "cell_type": "markdown",
   "metadata": {},
   "source": [
    "## Read csv"
   ]
  },
  {
   "cell_type": "code",
   "execution_count": 0,
   "metadata": {
    "colab": {},
    "colab_type": "code",
    "id": "iTZQOOIHnFJo"
   },
   "outputs": [],
   "source": [
    "df = pd.read_csv(train_file, delimiter=\"\\t\", names=['Captions', 'Urls'])"
   ]
  },
  {
   "cell_type": "markdown",
   "metadata": {
    "colab_type": "text",
    "id": "iFNUQKoQkzz_"
   },
   "source": [
    "## Download Google Conceptual dataset\n",
    "Try to download the image from url, if no response from the url for 8 seconds then it will skip that image. This saves a lot of time as many urls are not working."
   ]
  },
  {
   "cell_type": "code",
   "execution_count": 0,
   "metadata": {
    "colab": {},
    "colab_type": "code",
    "id": "yJ2uttgknOar"
   },
   "outputs": [],
   "source": [
    "def download_images(start, end):\n",
    "  print (start, end)\n",
    "  error = []\n",
    "  bar = progressbar.ProgressBar(max_value=(end-start))\n",
    "  for i in range(start, end):\n",
    "    # print (i)\n",
    "    try:\n",
    "      request.urlopen(links[i], timeout = 8)\n",
    "      request.urlretrieve(links[i],  photos_dir + \"/\" + str(i) + \".jpg\")\n",
    "    except:\n",
    "      error.append(i)\n",
    "    bar.update(i-start)\n",
    "  return error"
   ]
  },
  {
   "cell_type": "code",
   "execution_count": 0,
   "metadata": {
    "colab": {},
    "colab_type": "code",
    "id": "Yj1k0rmlQt3M"
   },
   "outputs": [],
   "source": [
    "def thread_fun(start, end):\n",
    "  error = download_images(start, end)\n",
    "  with open(os.path.join(error_file, \"error_\" + str(start) + \"_\" + str(end) + \".txt\"), 'w+') as file:\n",
    "    for e in error:\u0001\n",
    "      file.write(str(e) + \",\") "
   ]
  },
  {
   "cell_type": "code",
   "execution_count": 0,
   "metadata": {
    "colab": {},
    "colab_type": "code",
    "id": "1jkRzjFNoEr6"
   },
   "outputs": [],
   "source": [
    "for i in range(0,60):\n",
    "  thread_fun(i*1000,i*1000+1000)"
   ]
  },
  {
   "cell_type": "code",
   "execution_count": 0,
   "metadata": {
    "colab": {},
    "colab_type": "code",
    "id": "rGStR5FL5JWh"
   },
   "outputs": [],
   "source": [
    "print(len([name for name in os.listdir(photos_dir)]))"
   ]
  },
  {
   "cell_type": "code",
   "execution_count": 0,
   "metadata": {
    "colab": {},
    "colab_type": "code",
    "id": "D00qNEKYBt3m"
   },
   "outputs": [],
   "source": [
    "print(len(error) , \"not downloaded\")"
   ]
  },
  {
   "cell_type": "markdown",
   "metadata": {
    "colab_type": "text",
    "id": "B6ybmVmSxNsT"
   },
   "source": [
    "## Check and remove file if it is not an image\n",
    "Try to open the file using PIL library's Image module and if fails delete it - **Multithreading** "
   ]
  },
  {
   "cell_type": "code",
   "execution_count": 0,
   "metadata": {
    "colab": {},
    "colab_type": "code",
    "id": "WZaDF22ewpEg"
   },
   "outputs": [],
   "source": [
    "num_thread = 30\n",
    "photos_path = [path for path in os.listdir(photos_dir)]\n",
    "per_thread_photos = int(len(photos_path)/num_thread)"
   ]
  },
  {
   "cell_type": "code",
   "execution_count": 0,
   "metadata": {
    "colab": {},
    "colab_type": "code",
    "id": "Y8sS2wxQ_Pf6"
   },
   "outputs": [],
   "source": [
    "def check_photos(start,end):\n",
    "  bar = progressbar.ProgressBar(max_value=(end-start))\n",
    "  for i, path in zip(range(start,end), photos_path[start:end]):\n",
    "    try:\n",
    "      Image.open(os.path.join(photos_dir, path))\n",
    "    except:\n",
    "      os.remove(os.path.join(photos_dir, path))\n",
    "    bar.update(i-start)"
   ]
  },
  {
   "cell_type": "code",
   "execution_count": 0,
   "metadata": {
    "colab": {},
    "colab_type": "code",
    "id": "zMEXOKjKVr1u"
   },
   "outputs": [],
   "source": [
    "t = []\n",
    "for i in range(num_thread):\n",
    "    arg1 = i * per_thread_photos\n",
    "    if i == (num_thread-1):\n",
    "        arg2 = len(photos_path)\n",
    "    else:\n",
    "        arg2 = i * per_thread_photos + per_thread_photos\n",
    "    # print(arg1, arg2)\n",
    "    t.append(threading.Thread(target=check_photos, args=(arg1, arg2, )))\n",
    "    t[i].start()\n",
    "      \n",
    "for i in range(num_thread):\n",
    "    t[i].join()"
   ]
  }
 ],
 "metadata": {
  "accelerator": "GPU",
  "colab": {
   "collapsed_sections": [],
   "machine_shape": "hm",
   "name": "Image_captioning.ipynb",
   "private_outputs": true,
   "provenance": [],
   "toc_visible": true
  },
  "kernelspec": {
   "display_name": "Python 3",
   "language": "python",
   "name": "python3"
  },
  "language_info": {
   "codemirror_mode": {
    "name": "ipython",
    "version": 3
   },
   "file_extension": ".py",
   "mimetype": "text/x-python",
   "name": "python",
   "nbconvert_exporter": "python",
   "pygments_lexer": "ipython3",
   "version": "3.6.8"
  }
 },
 "nbformat": 4,
 "nbformat_minor": 1
}
