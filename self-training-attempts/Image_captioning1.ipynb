{
 "cells": [
  {
   "cell_type": "markdown",
   "metadata": {
    "colab_type": "text",
    "id": "K2s1A9eLRPEj"
   },
   "source": [
    "##### Copyright 2018 The TensorFlow Authors.\n",
    "\n"
   ]
  },
  {
   "cell_type": "code",
   "execution_count": 0,
   "metadata": {
    "cellView": "form",
    "colab": {},
    "colab_type": "code",
    "id": "VRLVEKiTEn04"
   },
   "outputs": [],
   "source": [
    "#@title Licensed under the Apache License, Version 2.0 (the \"License\");\n",
    "# you may not use this file except in compliance with the License.\n",
    "# You may obtain a copy of the License at\n",
    "#\n",
    "# https://www.apache.org/licenses/LICENSE-2.0\n",
    "#\n",
    "# Unless required by applicable law or agreed to in writing, software\n",
    "# distributed under the License is distributed on an \"AS IS\" BASIS,\n",
    "# WITHOUT WARRANTIES OR CONDITIONS OF ANY KIND, either express or implied.\n",
    "# See the License for the specific language governing permissions and\n",
    "# limitations under the License."
   ]
  },
  {
   "cell_type": "code",
   "execution_count": 0,
   "metadata": {
    "colab": {},
    "colab_type": "code",
    "id": "NCAYB7Evjr4H"
   },
   "outputs": [],
   "source": [
    "from google.colab import drive\n",
    "drive.mount('/content/drive')"
   ]
  },
  {
   "cell_type": "markdown",
   "metadata": {
    "colab_type": "text",
    "id": "Cffg2i257iMS"
   },
   "source": [
    "# Image Captioning with Attention\n",
    "\n",
    "<table class=\"tfo-notebook-buttons\" align=\"left\">\n",
    "  <td>\n",
    "    <a target=\"_blank\" href=\"https://www.tensorflow.org/beta/tutorials/text/image_captioning\">\n",
    "    <img src=\"https://www.tensorflow.org/images/tf_logo_32px.png\" />\n",
    "    View on TensorFlow.org</a>\n",
    "  </td>\n",
    "  <td>\n",
    "    <a target=\"_blank\" href=\"https://colab.research.google.com/github/tensorflow/docs/blob/r2.0rc/site/en/r2/tutorials/text/image_captioning.ipynb\">\n",
    "    <img src=\"https://www.tensorflow.org/images/colab_logo_32px.png\" />\n",
    "    Run in Google Colab</a>\n",
    "  </td>\n",
    "  <td>\n",
    "    <a target=\"_blank\" href=\"https://github.com/tensorflow/docs/blob/r2.0rc/site/en/r2/tutorials/text/image_captioning.ipynb\">\n",
    "    <img src=\"https://www.tensorflow.org/images/GitHub-Mark-32px.png\" />\n",
    "    View source on GitHub</a>\n",
    "  </td>\n",
    "  <td>\n",
    "    <a href=\"https://storage.googleapis.com/tensorflow_docs/docs/site/en/r2/tutorials/text/image_captioning.ipynb\"><img src=\"https://www.tensorflow.org/images/download_logo_32px.png\" />Download notebook</a>\n",
    "  </td>\n",
    "</table>"
   ]
  },
  {
   "cell_type": "markdown",
   "metadata": {
    "colab_type": "text",
    "id": "QASbY_HGo4Lq"
   },
   "source": [
    "Given an image like the example below, our goal is to generate a caption such as \"a surfer riding on a wave\".\n",
    "\n",
    "![Man Surfing](https://tensorflow.org/images/surf.jpg)\n",
    "\n",
    "*[Image Source](https://commons.wikimedia.org/wiki/Surfing#/media/File:Surfing_in_Hawaii.jpg); License: Public Domain*\n",
    "\n",
    "To accomplish this, you'll use an attention-based model, which enables us to see what parts of the image the model focuses on as it generates a caption.\n",
    "\n",
    "![Prediction](https://tensorflow.org/images/imcap_prediction.png)\n",
    "\n",
    "The model architecture is similar to [Show, Attend and Tell: Neural Image Caption Generation with Visual Attention](https://arxiv.org/abs/1502.03044).\n",
    "\n",
    "This notebook is an end-to-end example. When you run the notebook, it downloads the [MS-COCO](http://cocodataset.org/#home) dataset, preprocesses and caches a subset of images using Inception V3, trains an encoder-decoder model, and generates captions on new images using the trained model.\n",
    "\n",
    "In this example, you will train a model on a relatively small amount of data—the first 30,000 captions  for about 20,000 images (because there are multiple captions per image in the dataset)."
   ]
  },
  {
   "cell_type": "code",
   "execution_count": 0,
   "metadata": {
    "colab": {},
    "colab_type": "code",
    "id": "6svGEEek67ds"
   },
   "outputs": [],
   "source": [
    "from __future__ import absolute_import, division, print_function, unicode_literals"
   ]
  },
  {
   "cell_type": "code",
   "execution_count": 0,
   "metadata": {
    "colab": {},
    "colab_type": "code",
    "id": "U8l4RJ0XRPEm"
   },
   "outputs": [],
   "source": [
    "try:\n",
    "  # %tensorflow_version only exists in Colab.\n",
    "  %tensorflow_version 2.x\n",
    "except Exception:\n",
    "  pass\n",
    "import tensorflow as tf\n",
    "\n",
    "# You'll generate plots of attention in order to see which parts of an image\n",
    "# our model focuses on during captioning\n",
    "import matplotlib.pyplot as plt\n",
    "\n",
    "# Scikit-learn includes many helpful utilities\n",
    "from sklearn.model_selection import train_test_split\n",
    "from sklearn.utils import shuffle\n",
    "\n",
    "import pandas as pd\n",
    "import urllib.request as request\n",
    "import progressbar\n",
    "import time\n",
    "import threading\n",
    "from shutil import copyfile\n",
    "import cv2\n",
    "import zipfile\n",
    "import glob\n",
    "\n",
    "import re\n",
    "import numpy as np\n",
    "import os\n",
    "import time\n",
    "import json\n",
    "from glob import glob\n",
    "from PIL import Image\n",
    "import pickle"
   ]
  },
  {
   "cell_type": "markdown",
   "metadata": {
    "colab_type": "text",
    "id": "R_6wltjdduuv"
   },
   "source": [
    "## Extract images and annotations"
   ]
  },
  {
   "cell_type": "code",
   "execution_count": 0,
   "metadata": {
    "colab": {},
    "colab_type": "code",
    "id": "ztJmgfl7WiLK"
   },
   "outputs": [],
   "source": [
    "zip_images_file_path = \"/content/drive/Shared drives/AISight/COCO/train2014.zip\"\n",
    "zip_annotations_file_path = \"/content/drive/Shared drives/AISight/COCO/annotations_trainval2014.zip\"\n",
    "extracted_file_path = \"/content/drive/Shared drives/AISight/COCO/Dataset\""
   ]
  },
  {
   "cell_type": "code",
   "execution_count": 0,
   "metadata": {
    "colab": {},
    "colab_type": "code",
    "id": "8nlVkVtGWilL"
   },
   "outputs": [],
   "source": [
    "with zipfile.ZipFile(zip_images_file_path, 'r') as zip_ref:\n",
    "    zip_ref.extractall(extracted_file_path)"
   ]
  },
  {
   "cell_type": "code",
   "execution_count": 0,
   "metadata": {
    "colab": {},
    "colab_type": "code",
    "id": "ie2iEc3BeB1X"
   },
   "outputs": [],
   "source": [
    "with zipfile.ZipFile(zip_annotations_file_path, 'r') as zip_ref:\n",
    "    zip_ref.extractall(extracted_file_path)"
   ]
  },
  {
   "cell_type": "markdown",
   "metadata": {
    "colab_type": "text",
    "id": "9OJQbeGlf5TX"
   },
   "source": [
    "## Get images and related captions\n",
    "Each image has 5 captions. "
   ]
  },
  {
   "cell_type": "code",
   "execution_count": 0,
   "metadata": {
    "colab": {},
    "colab_type": "code",
    "id": "dcRFN1Kxf4ei"
   },
   "outputs": [],
   "source": [
    "annotation_file_path = \"/content/drive/Shared drives/AISight/COCO/Dataset/annotations/captions_train2014.json\"\n",
    "images_dir_path = \"/content/drive/Shared drives/AISight/COCO/Dataset/train2014\"\n",
    "image_name_format = \"COCO_train2014_000000$.jpg\"\n",
    "npy_files = \"/content/drive/Shared drives/AISight/COCO/npy_files\""
   ]
  },
  {
   "cell_type": "code",
   "execution_count": 0,
   "metadata": {
    "colab": {},
    "colab_type": "code",
    "id": "ke2HsCn2Wihh"
   },
   "outputs": [],
   "source": [
    "image_name_length = 12"
   ]
  },
  {
   "cell_type": "markdown",
   "metadata": {
    "colab_type": "text",
    "id": "-schziHXGY9L"
   },
   "source": [
    "## Remove .npy files"
   ]
  },
  {
   "cell_type": "code",
   "execution_count": 0,
   "metadata": {
    "colab": {},
    "colab_type": "code",
    "id": "VSi4Ecs9E6oE"
   },
   "outputs": [],
   "source": [
    "total_files = [path for path in os.listdir(images_dir_path)]"
   ]
  },
  {
   "cell_type": "code",
   "execution_count": 0,
   "metadata": {
    "colab": {},
    "colab_type": "code",
    "id": "MVNADiC4FAF3"
   },
   "outputs": [],
   "source": [
    "len(total_files)"
   ]
  },
  {
   "cell_type": "code",
   "execution_count": 0,
   "metadata": {
    "colab": {},
    "colab_type": "code",
    "id": "ytUCgSxZFD-h"
   },
   "outputs": [],
   "source": [
    "num_thread = 20\n",
    "per_thread_photos = int(len(total_files)/num_thread)\n",
    "per_thread_photos"
   ]
  },
  {
   "cell_type": "code",
   "execution_count": 0,
   "metadata": {
    "colab": {},
    "colab_type": "code",
    "id": "YsBP0dvOEqCR"
   },
   "outputs": [],
   "source": [
    "def remove_npy(start, end):\n",
    "  for path in total_files[start:end]:\n",
    "    if len(path.split(\".\")) == 3:\n",
    "      os.remove(os.path.join(images_dir_path, path))"
   ]
  },
  {
   "cell_type": "code",
   "execution_count": 0,
   "metadata": {
    "colab": {},
    "colab_type": "code",
    "id": "YS9p_YmRFW5h"
   },
   "outputs": [],
   "source": [
    "t = []\n",
    "for i in range(num_thread):\n",
    "    arg1 = i * per_thread_photos\n",
    "    if i == (num_thread-1):\n",
    "        arg2 = len(total_files)\n",
    "    else:\n",
    "        arg2 = i * per_thread_photos + per_thread_photos\n",
    "    # print(arg1, arg2)\n",
    "    t.append(threading.Thread(target=remove_npy, args=(arg1, arg2, )))\n",
    "    t[i].start()\n",
    "      \n",
    "for i in range(num_thread):\n",
    "    t[i].join()"
   ]
  },
  {
   "cell_type": "markdown",
   "metadata": {
    "colab_type": "text",
    "id": "4ku4SGhjZ4qF"
   },
   "source": [
    "## Find total .npy files"
   ]
  },
  {
   "cell_type": "code",
   "execution_count": 0,
   "metadata": {
    "colab": {},
    "colab_type": "code",
    "id": "8BaASIFyZ8OT"
   },
   "outputs": [],
   "source": [
    "total_files = [path for path in os.listdir(images_dir_path)]"
   ]
  },
  {
   "cell_type": "code",
   "execution_count": 0,
   "metadata": {
    "colab": {},
    "colab_type": "code",
    "id": "a6g71cf2zpKh"
   },
   "outputs": [],
   "source": [
    "total_files = [f for dirpath, dirnames, filenames in os.walk(images_dir_path) for f in filenames ]"
   ]
  },
  {
   "cell_type": "code",
   "execution_count": 0,
   "metadata": {
    "colab": {},
    "colab_type": "code",
    "id": "glwzoKQ41SGu"
   },
   "outputs": [],
   "source": [
    "total_files = []\n",
    "for dirpath, dirnames, filenames in os.walk(images_dir_path):\n",
    "  print(dirpath)\n",
    "  print(dirnames)\n",
    "  for f in filenames:\n",
    "    print(f)"
   ]
  },
  {
   "cell_type": "code",
   "execution_count": 0,
   "metadata": {
    "colab": {},
    "colab_type": "code",
    "id": "s1Fv8wmG2Tyv"
   },
   "outputs": [],
   "source": [
    "jpg_files = glob(images_dir_path+\"/*.jpg\")"
   ]
  },
  {
   "cell_type": "code",
   "execution_count": 0,
   "metadata": {
    "colab": {},
    "colab_type": "code",
    "id": "r_0L3OLE3i5J"
   },
   "outputs": [],
   "source": [
    " len(jpg_files)"
   ]
  },
  {
   "cell_type": "code",
   "execution_count": 0,
   "metadata": {
    "colab": {},
    "colab_type": "code",
    "id": "hDXnSB323wld"
   },
   "outputs": [],
   "source": [
    "npy_files = glob(images_dir_path+\"/*.jpg.npy\")"
   ]
  },
  {
   "cell_type": "code",
   "execution_count": 0,
   "metadata": {
    "colab": {},
    "colab_type": "code",
    "id": "CxHeB__y34vY"
   },
   "outputs": [],
   "source": [
    "len(npy_files), npy_files[0]"
   ]
  },
  {
   "cell_type": "code",
   "execution_count": 0,
   "metadata": {
    "colab": {},
    "colab_type": "code",
    "id": "9PgKC-vwaFEd"
   },
   "outputs": [],
   "source": [
    "total_files = npy_files"
   ]
  },
  {
   "cell_type": "code",
   "execution_count": 0,
   "metadata": {
    "colab": {},
    "colab_type": "code",
    "id": "5ejtv9khaGOf"
   },
   "outputs": [],
   "source": [
    "number_of_npy = [item for item in total_files if len(item.split(\".\")) == 3]"
   ]
  },
  {
   "cell_type": "code",
   "execution_count": 0,
   "metadata": {
    "colab": {},
    "colab_type": "code",
    "id": "azPT-m6IaUDF"
   },
   "outputs": [],
   "source": [
    "len(number_of_npy), number_of_npy[0]"
   ]
  },
  {
   "cell_type": "code",
   "execution_count": 0,
   "metadata": {
    "colab": {},
    "colab_type": "code",
    "id": "HG03rtqSaYlU"
   },
   "outputs": [],
   "source": [
    "images_to_consider = [item.split(\".\")[0] + \".\" + item.split(\".\")[1] for item in npy_files]"
   ]
  },
  {
   "cell_type": "code",
   "execution_count": 0,
   "metadata": {
    "colab": {},
    "colab_type": "code",
    "id": "90mWcOI2awKZ"
   },
   "outputs": [],
   "source": [
    "len(images_to_consider), images_to_consider[0]"
   ]
  },
  {
   "cell_type": "code",
   "execution_count": 0,
   "metadata": {
    "colab": {},
    "colab_type": "code",
    "id": "ZtrD6ZNNbR7J"
   },
   "outputs": [],
   "source": [
    "with open(annotation_file_path) as f:\n",
    "    anno = json.load(f)"
   ]
  },
  {
   "cell_type": "code",
   "execution_count": 0,
   "metadata": {
    "colab": {},
    "colab_type": "code",
    "id": "CHmWn2L5bVHR"
   },
   "outputs": [],
   "source": [
    "anno_captions_list = anno['annotations']"
   ]
  },
  {
   "cell_type": "code",
   "execution_count": 0,
   "metadata": {
    "colab": {},
    "colab_type": "code",
    "id": "HL15fNuJa-wt"
   },
   "outputs": [],
   "source": [
    "images = []\n",
    "captions = []\n",
    "for item in anno_captions_list:\n",
    "  images.append(item['image_id'])\n",
    "  captions.append(item['caption'])"
   ]
  },
  {
   "cell_type": "code",
   "execution_count": 0,
   "metadata": {
    "colab": {},
    "colab_type": "code",
    "id": "UzxTi7gBbaSz"
   },
   "outputs": [],
   "source": [
    "len(images), len(captions)"
   ]
  },
  {
   "cell_type": "code",
   "execution_count": 0,
   "metadata": {
    "colab": {},
    "colab_type": "code",
    "id": "eUrhWN6JbdFQ"
   },
   "outputs": [],
   "source": [
    "def replace_image_path(x):\n",
    "  length_image_id = len(str(x))\n",
    "  name = \"\"\n",
    "  if length_image_id == 1:\n",
    "    name = \"00000\" + str(x)  \n",
    "  elif length_image_id == 2:\n",
    "    name = \"0000\" + str(x)  \n",
    "  elif length_image_id == 3:\n",
    "    name = \"000\" + str(x)  \n",
    "  elif length_image_id == 4:\n",
    "    name = \"00\" + str(x)  \n",
    "  elif length_image_id == 5:\n",
    "    name = \"0\" + str(x) \n",
    "  else:\n",
    "    name = str(x) \n",
    "  image_name = image_name_format.replace(\"$\", name)\n",
    "  # print(image_name)\n",
    "  image_path = os.path.join(images_dir_path, image_name)\n",
    "  # print(image_path)\n",
    "  return image_path"
   ]
  },
  {
   "cell_type": "code",
   "execution_count": 0,
   "metadata": {
    "colab": {},
    "colab_type": "code",
    "id": "rgA1Ps6xbgS2"
   },
   "outputs": [],
   "source": [
    "temp = list(map(replace_image_path,images))"
   ]
  },
  {
   "cell_type": "code",
   "execution_count": 0,
   "metadata": {
    "colab": {},
    "colab_type": "code",
    "id": "_qD7b95kc8gm"
   },
   "outputs": [],
   "source": [
    "temp[0]"
   ]
  },
  {
   "cell_type": "code",
   "execution_count": 0,
   "metadata": {
    "colab": {},
    "colab_type": "code",
    "id": "rlw8rVpHbiTD"
   },
   "outputs": [],
   "source": [
    "images = []\n",
    "new_captions = []\n",
    "for i, item in enumerate(temp):\n",
    "  # print(item)\n",
    "  if item in images_to_consider:\n",
    "    # print(\"if\")\n",
    "    images.append(item)\n",
    "    new_captions.append(captions[i])"
   ]
  },
  {
   "cell_type": "code",
   "execution_count": 0,
   "metadata": {
    "colab": {},
    "colab_type": "code",
    "id": "uHH_2L2ocIQG"
   },
   "outputs": [],
   "source": [
    "len(images), len(new_captions)"
   ]
  },
  {
   "cell_type": "code",
   "execution_count": 0,
   "metadata": {
    "colab": {},
    "colab_type": "code",
    "id": "NXW3mapZcMc4"
   },
   "outputs": [],
   "source": [
    "def add_path(x):\n",
    "  return os.path.join(images_dir_path, x)"
   ]
  },
  {
   "cell_type": "code",
   "execution_count": 0,
   "metadata": {
    "colab": {},
    "colab_type": "code",
    "id": "XTvLd-9jcUMu"
   },
   "outputs": [],
   "source": [
    "temp = list(map(add_path,images))npy_files = \"/content/drive/Shared drives/AISight/COCO/npy_files\""
   ]
  },
  {
   "cell_type": "code",
   "execution_count": 0,
   "metadata": {
    "colab": {},
    "colab_type": "code",
    "id": "1_l7__c6cVG9"
   },
   "outputs": [],
   "source": [
    "del images\n",
    "del captions"
   ]
  },
  {
   "cell_type": "code",
   "execution_count": 0,
   "metadata": {
    "colab": {},
    "colab_type": "code",
    "id": "JQRo0PkucX0-"
   },
   "outputs": [],
   "source": [
    "# images = temp\n",
    "captions = new_captions"
   ]
  },
  {
   "cell_type": "code",
   "execution_count": 0,
   "metadata": {
    "colab": {},
    "colab_type": "code",
    "id": "Cqv1D6_mcc11"
   },
   "outputs": [],
   "source": [
    "len(images), len(captions), images[0]"
   ]
  },
  {
   "cell_type": "code",
   "execution_count": 0,
   "metadata": {
    "colab": {},
    "colab_type": "code",
    "id": "7IEAAmhbfl5U"
   },
   "outputs": [],
   "source": [
    "df = pd.DataFrame(zip(images, captions), columns=[\"image\",\"caption\"])"
   ]
  },
  {
   "cell_type": "code",
   "execution_count": 0,
   "metadata": {
    "colab": {},
    "colab_type": "code",
    "id": "X5E6xsXwgGfN"
   },
   "outputs": [],
   "source": [
    "df.head()npy_files = \"/content/drive/Shared drives/AISight/COCO/npy_files\""
   ]
  },
  {
   "cell_type": "code",
   "execution_count": 0,
   "metadata": {
    "colab": {},
    "colab_type": "code",
    "id": "7oDa-7ksgRjV"
   },
   "outputs": [],
   "source": [
    "len(list(set(images)))"
   ]
  },
  {
   "cell_type": "markdown",
   "metadata": {
    "colab_type": "text",
    "id": "zFudLSMtGhjO"
   },
   "source": [
    "## Get all images and captions"
   ]
  },
  {
   "cell_type": "code",
   "execution_count": 0,
   "metadata": {
    "colab": {},
    "colab_type": "code",
    "id": "lKu3fg31WicP"
   },
   "outputs": [],
   "source": [
    "images_name = [name for name in os.listdir(images_dir_path)]"
   ]
  },
  {
   "cell_type": "code",
   "execution_count": 0,
   "metadata": {
    "colab": {},
    "colab_type": "code",
    "id": "jMvWskyAWiYo"
   },
   "outputs": [],
   "source": [
    "len(images_name), images_name[0]"
   ]
  },
  {
   "cell_type": "code",
   "execution_count": 0,
   "metadata": {
    "colab": {},
    "colab_type": "code",
    "id": "jm5PCfr0jKq6"
   },
   "outputs": [],
   "source": [
    "with open(annotation_file_path) as f:\n",
    "    anno = json.load(f)"
   ]
  },
  {
   "cell_type": "code",
   "execution_count": 0,
   "metadata": {
    "colab": {},
    "colab_type": "code",
    "id": "zoX55_PmjavP"
   },
   "outputs": [],
   "source": [
    "anno_captions_list = anno['annotations']"
   ]
  },
  {
   "cell_type": "code",
   "execution_count": 0,
   "metadata": {
    "colab": {},
    "colab_type": "code",
    "id": "tvzrNJQkkFzx"
   },
   "outputs": [],
   "source": [
    "len(anno_captions_list)"
   ]
  },
  {
   "cell_type": "code",
   "execution_count": 0,
   "metadata": {
    "colab": {},
    "colab_type": "code",
    "id": "GBzTEiRh8SNS"
   },
   "outputs": [],
   "source": [
    "images = []\n",
    "captions = []\n",
    "for item in anno_captions_list:\n",
    "  images.append(item['image_id'])\n",
    "  captions.append(item['caption'])"
   ]
  },
  {
   "cell_type": "code",
   "execution_count": 0,
   "metadata": {
    "colab": {},
    "colab_type": "code",
    "id": "Aqj-8Rfu8h09"
   },
   "outputs": [],
   "source": [
    "len(images), len(captions)"
   ]
  },
  {
   "cell_type": "code",
   "execution_count": 0,
   "metadata": {
    "colab": {},
    "colab_type": "code",
    "id": "1HHxZTr_FUeF"
   },
   "outputs": [],
   "source": [
    "def replace_image_path(x):\n",
    "  length_image_id = len(str(x))\n",
    "  name = \"\"\n",
    "  if length_image_id == 1:\n",
    "    name = \"00000\" + str(x)  \n",
    "  elif length_image_id == 2:\n",
    "    name = \"0000\" + str(x)  \n",
    "  elif length_image_id == 3:\n",
    "    name = \"000\" + str(x)  \n",
    "  elif length_image_id == 4:\n",
    "    name = \"00\" + str(x)  \n",
    "  elif length_image_id == 5:\n",
    "    name = \"0\" + str(x) \n",
    "  else:\n",
    "    name = str(x) \n",
    "  image_name = image_name_format.replace(\"$\", name)\n",
    "  # print(image_name)\n",
    "  image_path = os.path.join(images_dir_path, image_name)\n",
    "  # print(image_path)\n",
    "  return image_path"
   ]
  },
  {
   "cell_type": "code",
   "execution_count": 0,
   "metadata": {
    "colab": {},
    "colab_type": "code",
    "id": "eMJBFeC8LivQ"
   },
   "outputs": [],
   "source": [
    "temp = list(map(replace_image_path,images))"
   ]
  },
  {
   "cell_type": "code",
   "execution_count": 0,
   "metadata": {
    "colab": {},
    "colab_type": "code",
    "id": "4AKzIx2lLpLt"
   },
   "outputs": [],
   "source": [
    "len(temp), temp[0]"
   ]
  },
  {
   "cell_type": "code",
   "execution_count": 0,
   "metadata": {
    "colab": {},
    "colab_type": "code",
    "id": "dQQUuwf4H8UQ"
   },
   "outputs": [],
   "source": [
    "images = temp"
   ]
  },
  {
   "cell_type": "code",
   "execution_count": 0,
   "metadata": {
    "colab": {},
    "colab_type": "code",
    "id": "e7ytsKTbl07G"
   },
   "outputs": [],
   "source": [
    "df = pd.DataFrame(zip(images, captions), columns=[\"image\",\"caption\"])"
   ]
  },
  {
   "cell_type": "code",
   "execution_count": 0,
   "metadata": {
    "colab": {},
    "colab_type": "code",
    "id": "pRHWeo5_mGHo"
   },
   "outputs": [],
   "source": [
    "df.head()"
   ]
  },
  {
   "cell_type": "markdown",
   "metadata": {
    "colab_type": "text",
    "id": "iFNUQKoQkzz_"
   },
   "source": [
    "## Download Google Conceptual dataset\n"
   ]
  },
  {
   "cell_type": "code",
   "execution_count": 0,
   "metadata": {
    "colab": {},
    "colab_type": "code",
    "id": "VbuO9lMOkwmO"
   },
   "outputs": [],
   "source": [
    "train_file = \"/content/drive/Shared drives/AISight/Google Dataset/Train_GCC-training.tsv\"\n",
    "gadgets_file = \"/content/drive/Shared drives/AISight/Google Dataset/gadgets.csv\"\n",
    "photos_dir = \"/content/drive/Shared drives/AISight/Google Dataset/gadgets_photos_pny\"\n",
    "error_file = \"/content/drive/Shared drives/AISight/Google Dataset/Error Files\"\n",
    "print (os.path.exists(train_file))"
   ]
  },
  {
   "cell_type": "code",
   "execution_count": 0,
   "metadata": {
    "colab": {},
    "colab_type": "code",
    "id": "iTZQOOIHnFJo"
   },
   "outputs": [],
   "source": [
    "df = pd.read_csv(gadgets_file, names=['Captions', 'Urls'])"
   ]
  },
  {
   "cell_type": "code",
   "execution_count": 0,
   "metadata": {
    "colab": {},
    "colab_type": "code",
    "id": "0BReww2ulPaQ"
   },
   "outputs": [],
   "source": [
    "df.shape"
   ]
  },
  {
   "cell_type": "code",
   "execution_count": 0,
   "metadata": {
    "colab": {},
    "colab_type": "code",
    "id": "Vu6wdydBagpf"
   },
   "outputs": [],
   "source": [
    "links = df['Urls']"
   ]
  },
  {
   "cell_type": "code",
   "execution_count": 0,
   "metadata": {
    "colab": {},
    "colab_type": "code",
    "id": "T5Q89qXNRwKG"
   },
   "outputs": [],
   "source": [
    "df.iloc[9]"
   ]
  },
  {
   "cell_type": "code",
   "execution_count": 0,
   "metadata": {
    "colab": {},
    "colab_type": "code",
    "id": "yJ2uttgknOar"
   },
   "outputs": [],
   "source": [
    "def download_images(start, end):\n",
    "  print (start, end)\n",
    "  error = []\n",
    "  bar = progressbar.ProgressBar(max_value=(end-start))\n",
    "  for i in range(start, end):\n",
    "    # print (i)\n",
    "    try:\n",
    "      request.urlopen(links[i], timeout=8)\n",
    "      request.urlretrieve(links[i],  photos_dir + \"/\" + str(i) + \".jpg\")\n",
    "    except:\n",
    "      error.append(i)\n",
    "    bar.update(i-start)\n",
    "  return error"
   ]
  },
  {
   "cell_type": "code",
   "execution_count": 0,
   "metadata": {
    "colab": {},
    "colab_type": "code",
    "id": "Yj1k0rmlQt3M"
   },
   "outputs": [],
   "source": [
    "def thread_fun(start, end):\n",
    "  error = download_images(start, end)\n",
    "  with open(os.path.join(error_file, \"error_\" + str(start) + \"_\" + str(end) + \".txt\"), 'w+') as file:\n",
    "    for e in error:\u0001\n",
    "      file.write(str(e) + \",\") "
   ]
  },
  {
   "cell_type": "code",
   "execution_count": 0,
   "metadata": {
    "colab": {},
    "colab_type": "code",
    "id": "1jkRzjFNoEr6"
   },
   "outputs": [],
   "source": [
    "for i in range(6,10):\n",
    "  thread_fun(i*1000,i*1000+1000)"
   ]
  },
  {
   "cell_type": "code",
   "execution_count": 0,
   "metadata": {
    "colab": {},
    "colab_type": "code",
    "id": "rGStR5FL5JWh"
   },
   "outputs": [],
   "source": [
    "print(len([name for name in os.listdir(photos_dir)]))"
   ]
  },
  {
   "cell_type": "code",
   "execution_count": 0,
   "metadata": {
    "colab": {},
    "colab_type": "code",
    "id": "D00qNEKYBt3m"
   },
   "outputs": [],
   "source": [
    "print(len(error) , \"not downloaded\")"
   ]
  },
  {
   "cell_type": "markdown",
   "metadata": {
    "colab_type": "text",
    "id": "B6ybmVmSxNsT"
   },
   "source": [
    "## Check and remove file if it is not image\n",
    "Try to open the file using PIL library's Image module and if fails delete it - **Multithreading** "
   ]
  },
  {
   "cell_type": "code",
   "execution_count": 0,
   "metadata": {
    "colab": {},
    "colab_type": "code",
    "id": "WZaDF22ewpEg"
   },
   "outputs": [],
   "source": [
    "num_thread = 30\n",
    "photos_path = [patnpy_files = \"/content/drive/Shared drives/AISight/COCO/npy_files\"h for path in os.listdir(photos_dir)]\n",
    "per_thread_photos = int(len(photos_path)/num_thread)"
   ]
  },
  {
   "cell_type": "code",
   "execution_count": 0,
   "metadata": {
    "colab": {},
    "colab_type": "code",
    "id": "Y8sS2wxQ_Pf6"
   },
   "outputs": [],
   "source": [
    "def check_photos(start,end):\n",
    "  bar = progressbar.ProgressBar(max_value=(end-start))\n",
    "  for i, path in zip(range(start,end), photos_path[start:end]):\n",
    "    try:\n",
    "      Image.open(os.path.join(photos_dir, path))\n",
    "    except:\n",
    "      os.remove(os.path.join(photos_dir, path))\n",
    "    bar.update(i-start)"
   ]
  },
  {
   "cell_type": "code",
   "execution_count": 0,
   "metadata": {
    "colab": {},
    "colab_type": "code",
    "id": "zMEXOKjKVr1u"
   },
   "outputs": [],
   "source": [
    "t = []\n",
    "for i in range(num_thread):\n",
    "    arg1 = i * per_thread_photos\n",
    "    if i == (num_thread-1):\n",
    "        arg2 = len(photos_path)\n",
    "    else:\n",
    "        arg2 = i * per_thread_photos + per_thread_photos\n",
    "    # print(arg1, arg2)\n",
    "    t.append(threading.Thread(target=check_photos, args=(arg1, arg2, )))\n",
    "    t[i].start()\n",
    "      \n",
    "for i in range(num_thread):\n",
    "    t[i].join()"
   ]
  },
  {
   "cell_type": "markdown",
   "metadata": {
    "colab_type": "text",
    "id": "P7d4J8AcJy0Z"
   },
   "source": [
    "## Get captions and photos path"
   ]
  },
  {
   "cell_type": "code",
   "execution_count": 0,
   "metadata": {
    "colab": {},
    "colab_type": "code",
    "id": "qJzwYAb1OYxH"
   },
   "outputs": [],
   "source": [
    "photos_index = [int(i.split(\".\")[0]) for i in os.listdir(photos_dir)]"
   ]
  },
  {
   "cell_type": "code",
   "execution_count": 0,
   "metadata": {
    "colab": {},
    "colab_type": "code",
    "id": "ZkIHTAZcj-Pg"
   },
   "outputs": [],
   "source": [
    "photos_index = list(set(photos_index))"
   ]
  },
  {
   "cell_type": "code",
   "execution_count": 0,
   "metadata": {
    "colab": {},
    "colab_type": "code",
    "id": "RHatG7u3O2Q2"
   },
   "outputs": [],
   "source": [
    "photos_index[:5], len(photos_index)"
   ]
  },
  {
   "cell_type": "code",
   "execution_count": 0,
   "metadata": {
    "colab": {},
    "colab_type": "code",
    "id": "tGVxUuMYPTgu"
   },
   "outputs": [],
   "source": [
    "processed_df = df.iloc[photos_index]"
   ]
  },
  {
   "cell_type": "code",
   "execution_count": 0,
   "metadata": {
    "colab": {},
    "colab_type": "code",
    "id": "v6Sx0QTyRqnc"
   },
   "outputs": [],
   "source": [
    "processed_df_index = processed_df.index.tolist()"
   ]
  },
  {
   "cell_type": "code",
   "execution_count": 0,
   "metadata": {
    "colab": {},
    "colab_type": "code",
    "id": "DH3d_Utm2krG"
   },
   "outputs": [],
   "source": [
    "photos_path = [os.path.join(photos_dir,str(i) + \".jpg\") for i in processed_df_index]"
   ]
  },
  {
   "cell_type": "code",
   "execution_count": 0,
   "metadata": {
    "colab": {},
    "colab_type": "code",
    "id": "ygQgMEur3J2B"
   },
   "outputs": [],
   "source": [
    "photos_path[:5]"
   ]
  },
  {
   "cell_type": "code",
   "execution_count": 0,
   "metadata": {
    "colab": {},
    "colab_type": "code",
    "id": "90DLRsSHQYLp"
   },
   "outputs": [],
   "source": [
    "captions = processed_df['Captions'].tolist()"
   ]
  },
  {
   "cell_type": "code",
   "execution_count": 0,
   "metadata": {
    "colab": {},
    "colab_type": "code",
    "id": "EJ9SZm7P3Uv2"
   },
   "outputs": [],
   "source": [
    "final_df = pd.DataFrame({\"Captions\":captions, \"Photo_paths\":photos_path})"
   ]
  },
  {
   "cell_type": "code",
   "execution_count": 0,
   "metadata": {
    "colab": {},
    "colab_type": "code",
    "id": "0OwyE_KS31MP"
   },
   "outputs": [],
   "source": [
    "print(final_df['Captions'].iloc[1], final_df['Photo_paths'].iloc[1])"
   ]
  },
  {
   "cell_type": "code",
   "execution_count": 0,
   "metadata": {
    "colab": {},
    "colab_type": "code",
    "id": "Z5uiz2S1Q2r_"
   },
   "outputs": [],
   "source": [
    "len(captions)"
   ]
  },
  {
   "cell_type": "code",
   "execution_count": 0,
   "metadata": {
    "colab": {},
    "colab_type": "code",
    "id": "4G3b8x8_RPFD"
   },
   "outputs": [],
   "source": [
    "# Store captions and image names in vectors\n",
    "all_captions = []\n",
    "all_img_name_vector = photos_path\n",
    "\n",
    "for c in captions:\n",
    "    caption = '<start> ' + c + ' <end>'\n",
    "    all_captions.append(caption)\n",
    "\n",
    "# Shuffle captions and image_names together\n",
    "# Set a random state\n",
    "train_captions, img_name_vector = shuffle(all_captions,\n",
    "                                          all_img_name_vector,\n",
    "                                          random_state=1)"
   ]
  },
  {
   "cell_type": "code",
   "execution_count": 0,
   "metadata": {
    "colab": {},
    "colab_type": "code",
    "id": "B0Sg2y7mMa9N"
   },
   "outputs": [],
   "source": [
    "len(train_captions),len(img_name_vector)"
   ]
  },
  {
   "cell_type": "code",
   "execution_count": 0,
   "metadata": {
    "colab": {},
    "colab_type": "code",
    "id": "PMY2K6Q9E1YL"
   },
   "outputs": [],
   "source": [
    "img_name_vector[:2]"
   ]
  },
  {
   "cell_type": "markdown",
   "metadata": {
    "colab_type": "text",
    "id": "tITrYzQEqawC"
   },
   "source": [
    "## Make captions and image path list\n"
   ]
  },
  {
   "cell_type": "code",
   "execution_count": 0,
   "metadata": {
    "colab": {},
    "colab_type": "code",
    "id": "P2QzW2ILqbRT"
   },
   "outputs": [],
   "source": [
    "# Store captions and image names in vectors\n",
    "all_captions = []\n",
    "all_img_name_vector = []\n",
    "\n",
    "for index, row in df.iterrows():\n",
    "    c = row['caption']\n",
    "    im = row['image']\n",
    "    caption = '<start> ' + c + ' <end>'\n",
    "    all_captions.append(caption)\n",
    "    all_img_name_vector.append(im)\n",
    "\n",
    "# Shuffle captions and image_names together\n",
    "# Set a random state\n",
    "train_captions, img_name_vector = shuffle(all_captions,\n",
    "                                          all_img_name_vector,\n",
    "                                          random_state=1)"
   ]
  },
  {
   "cell_type": "code",
   "execution_count": 0,
   "metadata": {
    "colab": {},
    "colab_type": "code",
    "id": "t9nhH0cqqg4A"
   },
   "outputs": [],
   "source": [
    "len(train_captions),len(img_name_vector)"
   ]
  },
  {
   "cell_type": "markdown",
   "metadata": {
    "colab_type": "text",
    "id": "8cSW4u-ORPFQ"
   },
   "source": [
    "## Preprocess the images using InceptionV3\n",
    "Next, you will use InceptionV3 (which is pretrained on Imagenet) to classify each image. You will extract features from the last convolutional layer.\n",
    "\n",
    "First, you will convert the images into InceptionV3's expected format by:\n",
    "* Resizing the image to 299px by 299px\n",
    "* [Preprocess the images](https://cloud.google.com/tpu/docs/inception-v3-advanced#preprocessing_stage) using the [preprocess_input](https://www.tensorflow.org/api_docs/python/tf/keras/applications/inception_v3/preprocess_input) method to normalize the image so that it contains pixels in the range of -1 to 1, which matches the format of the images used to train InceptionV3."
   ]
  },
  {
   "cell_type": "code",
   "execution_count": 0,
   "metadata": {
    "colab": {},
    "colab_type": "code",
    "id": "zXR0217aRPFR"
   },
   "outputs": [],
   "source": [
    "def load_image(image_path):\n",
    "    img = tf.io.read_file(image_path)\n",
    "    img = tf.image.decode_jpeg(img, channels=3)\n",
    "    img = tf.image.resize(img, (299, 299))\n",
    "    img = tf.keras.applications.inception_v3.preprocess_input(img)\n",
    "    # path = npy_files + \"/\" + image_path.decode(\"utf-8\").split(\"/\")[-1]\n",
    "    return img, image_path"
   ]
  },
  {
   "cell_type": "markdown",
   "metadata": {
    "colab_type": "text",
    "id": "MDvIu4sXRPFV"
   },
   "source": [
    "## Initialize InceptionV3 and load the pretrained Imagenet weights\n",
    "\n",
    "Now you'll create a tf.keras model where the output layer is the last convolutional layer in the InceptionV3 architecture. The shape of the output of this layer is ```8x8x2048```. You use the last convolutional layer because you are using attention in this example. You don't perform this initialization during training because it could become a bottleneck.\n",
    "\n",
    "* You forward each image through the network and store the resulting vector in a dictionary (image_name --> feature_vector).\n",
    "* After all the images are passed through the network, you pickle the dictionary and save it to disk.\n",
    "\n",
    "\n"
   ]
  },
  {
   "cell_type": "code",
   "execution_count": 0,
   "metadata": {
    "colab": {},
    "colab_type": "code",
    "id": "RD3vW4SsRPFW"
   },
   "outputs": [],
   "source": [
    "image_model = tf.keras.applications.InceptionV3(include_top=False,\n",
    "                                                weights='imagenet')\n",
    "new_input = image_model.input\n",
    "hidden_layer = image_model.layers[-1].output\n",
    "image_features_extract_model = tf.keras.Model(new_input, hidden_layer)"
   ]
  },
  {
   "cell_type": "markdown",
   "metadata": {
    "colab_type": "text",
    "id": "rERqlR3WRPGO"
   },
   "source": [
    "## Caching the features extracted from InceptionV3\n",
    "\n",
    "You will pre-process each image with InceptionV3 and cache the output to disk. Caching the output in RAM would be faster but also memory intensive, requiring 8 \\* 8 \\* 2048 floats per image. At the time of writing, this exceeds the memory limitations of Colab (currently 12GB of memory).\n",
    "\n",
    "Performance could be improved with a more sophisticated caching strategy (for example, by sharding the images to reduce random access disk I/O), but that would require more code.\n",
    "\n",
    "The caching will take about 10 minutes to run in Colab with a GPU. If you'd like to see a progress bar, you can: \n",
    "\n",
    "1. install [tqdm](https://github.com/tqdm/tqdm):\n",
    "\n",
    "    `!pip install tqdm`\n",
    "\n",
    "2. Import tqdm:\n",
    "\n",
    "    `from tqdm import tqdm`\n",
    "\n",
    "3. Change the following line:\n",
    "\n",
    "    `for img, path in image_dataset:`\n",
    "\n",
    "    to:\n",
    "\n",
    "    `for img, path in tqdm(image_dataset):`\n"
   ]
  },
  {
   "cell_type": "markdown",
   "metadata": {
    "colab_type": "text",
    "id": "sS5LrlYFRdRE"
   },
   "source": [
    "## Photos numpy array\n",
    "Create a numpy array of all training images - **Multithreading**\n"
   ]
  },
  {
   "cell_type": "code",
   "execution_count": 0,
   "metadata": {
    "colab": {},
    "colab_type": "code",
    "id": "G6Tkd6vfoh3Y"
   },
   "outputs": [],
   "source": [
    "num_thread = 8\n",
    "per_thread_photos = int(len(img_name_vector)/num_thread)"
   ]
  },
  {
   "cell_type": "code",
   "execution_count": 0,
   "metadata": {
    "colab": {},
    "colab_type": "code",
    "id": "9hdgBETnn1yQ"
   },
   "outputs": [],
   "source": [
    "image = np.zeros((len(img_name_vector),299,299,3))\n",
    "img_path = [\"\"] * len(img_name_vector) "
   ]
  },
  {
   "cell_type": "code",
   "execution_count": 0,
   "metadata": {
    "colab": {},
    "colab_type": "code",
    "id": "PzOhGe9a7qzA"
   },
   "outputs": [],
   "source": [
    "def generate_photos_array(m,n):\n",
    "  for i, path in zip(range(m,n), img_name_vector[m:n]):\n",
    "    # if i == 5:\n",
    "    #   breakimage_model\n",
    "    a, b = load_image(path)\n",
    "    image[i] = a\n",
    "    img_path[i] = b"
   ]
  },
  {
   "cell_type": "code",
   "execution_count": 0,
   "metadata": {
    "colab": {},
    "colab_type": "code",
    "id": "xHrjGvKQpXtU"
   },
   "outputs": [],
   "source": [
    "t = []\n",
    "for i in range(num_thread):\n",
    "    arg1 = i * per_thread_photos\n",
    "    if i == (num_thread-1):\n",
    "        arg2 = len(img_name_vector)\n",
    "    else:\n",
    "        arg2 = i * p\n",
    "for index, row in df.iterrows():\n",
    "    c = row['caption']er_thread_photos + per_thread_photos\n",
    "    print(arg1, arg2)\n",
    "    t.append(threading.Thread(target=generate_photos_array, args=(arg1, arg2, )))\n",
    "    t[i].start()\n",
    "        \n",
    "for i in range(num_thread):image_model\n",
    "    t[i].join()"
   ]
  },
  {
   "cell_type": "code",
   "execution_count": 0,
   "metadata": {
    "colab": {},
    "colab_type": "code",
    "id": "VaaLtkN8I2Lq"
   },
   "outputs": [],
   "source": [
    "image.shape"
   ]
  },
  {
   "cell_type": "code",
   "execution_count": 0,
   "metadata": {
    "colab": {},
    "colab_type": "code",
    "id": "Dx_fvbVgRPGQ"
   },
   "outputs": [],
   "source": [
    "# Get unique images\n",
    "encode_train = sorted(set(img_name_vector))\n",
    "\n",
    "# Feel free to change batch_size according to your system configuration\n",
    "image_dataset = tf.data.Dataset.from_tensor_slices(encode_train)\n",
    "image_dataset = image_dataset.map(\n",
    "  load_image, num_parallel_calls=tf.data.experimental.AUTOTUNE).batch(16)\n",
    "\n",
    "\n",
    "for img, path in zip(image, img_path):\n",
    "  img = img.reshape(1,299,299,3)\n",
    "  # print(img.shape)\n",
    "  batch_features = image_features_extract_model(img)\n",
    "  batch_features = tf.reshape(batch_features,\n",
    "                              (batch_features.shape[0], -1, batch_features.shape[3]))\n",
    "\n",
    "  for bf, p in zip(batch_features, path):\n",
    "    path_of_feature = p.numpy().decode(\"utf-8\")\n",
    "    print(path_of_feature)\n",
    "    np.save(path_of_feature, bf.numpy())"
   ]
  },
  {
   "cell_type": "code",
   "execution_count": 0,
   "metadata": {
    "colab": {},
    "colab_type": "code",
    "id": "QOE-S0gdNHW4"
   },
   "outputs": [],
   "source": [
    "encode_train = sorted(set(img_name_vector))\n",
    "\n",
    "# Feel free to change batch_size according to your system configuration\n",
    "image_dataset = tf.data.Dataset.from_tensor_slices(encode_train)\n",
    "image_dataset = image_dataset.map(\n",
    "  load_image, num_parallel_calls=tf.data.experimental.AUTOTUNE).batch(16)\n",
    "\n",
    "# bar = progressbar.ProgressBar(max_value=(end-start))\n",
    "\n",
    "for img, path in image_dataset:\n",
    "  if len(img) == 1:\n",
    "    img_name_vector = filter(lambda x : x == path , img_name_vector)\n",
    "  else:\n",
    "    batch_features = image_features_extract_model(img)\n",
    "    batch_features = tf.reshape(batch_features,\n",
    "                              (batch_features.shape[0], -1, batch_features.shape[3]))\n",
    "\n",
    "    for bf, p in zip(batch_features, path):\n",
    "      path_of_feature = p.numpy().decode(\"utf-8\")\n",
    "      np.save(path_of_feature, bf.numpy())"
   ]
  },
  {
   "cell_type": "code",
   "execution_count": 0,
   "metadata": {
    "colab": {},
    "colab_type": "code",
    "id": "4PO9vsptzsc_"
   },
   "outputs": [],
   "source": [
    "num_thread = 10\n",
    "per_thread_photos = int(len(list(set(img_name_vector)))/num_thread)\n",
    "per_thread_photos"
   ]
  },
  {
   "cell_type": "code",
   "execution_count": 0,
   "metadata": {
    "colab": {},
    "colab_type": "code",
    "id": "Vth9d7mHWBwg"
   },
   "outputs": [],
   "source": [
    "def save_photos_as_numpy(start, end):\n",
    "  \n",
    "  # Get unique images\n",
    "  encode_train = sorted(set(img_name_vector[start:end]))\n",
    "\n",
    "  # Feel free to change batch_size according to your system configuration\n",
    "  image_dataset = tf.data.Dataset.from_tensor_slices(encode_train)\n",
    "  image_dataset = image_dataset.map(\n",
    "    load_image, num_parallel_calls=tf.data.experimental.AUTOTUNE).batch(16)\n",
    "\n",
    "  bar = progressbar.ProgressBar(max_value=(end-start))\n",
    "\n",
    "  for i, (img, path) in zip(range(start, end), image_dataset):\n",
    "    batch_features = image_features_extract_model(img)\n",
    "    batch_features = tf.reshape(batch_features,\n",
    "                                (batch_features.shape[0], -1, batch_features.shape[3]))\n",
    "\n",
    "    for bf, p in zip(batch_features, path):\n",
    "      path_of_feature = p.numpy().decode(\"utf-8\")\n",
    "      np.save(path_of_feature, bf.numpy(ssBar(max_value=(end-start))\n",
    "))\n",
    "    bar.update(i-start)"
   ]
  },
  {
   "cell_type": "code",
   "execution_count": 0,
   "metadata": {
    "colab": {},
    "colab_type": "code",
    "id": "gjNINyL_znGS"
   },
   "outputs": [],
   "source": [
    "t = []\n",
    "for i in range(num_thread):\n",
    "    arg1 = i * per_thread_photos\n",
    "    if i == (num_thread-1):\n",
    "        arg2 = len(list(set(img_name_vector)))\n",
    "    else:\n",
    "        arg2 = i * per_thread_photos + per_thread_photos\n",
    "    # print(arg1, arg2)\n",
    "    t.append(threading.Thread(target=save_photos_as_numpy, args=(arg1, arg2, )))\n",
    "    t[i].start()\n",
    "        \n",
    "for i in range(num_thread):\n",
    "    t[i].join()"
   ]
  },
  {
   "cell_type": "code",
   "execution_count": 0,
   "metadata": {
    "colab": {},
    "colab_type": "code",
    "id": "sXoa75SzMuO1"
   },
   "outputs": [],
   "source": [
    "len([path for path in os.listdir(images_dir_path)])"
   ]
  },
  {
   "cell_type": "code",
   "execution_count": 0,
   "metadata": {
    "colab": {},
    "colab_type": "code",
    "id": "owJXNnTnqoW2"
   },
   "outputs": [],
   "source": [
    "print(len([path for path in os.listdir(\"/content/drive/Shared drives/AISight/Google Dataset/gadgets\")]))"
   ]
  },
  {
   "cell_type": "code",
   "execution_count": 0,
   "metadata": {
    "colab": {},
    "colab_type": "code",
    "id": "mMHu3RGwwaM0"
   },
   "outputs": [],
   "source": [
    "gadgets_dir = [path for path in os.listdir(photos_dir)]"
   ]
  },
  {
   "cell_type": "code",
   "execution_count": 0,
   "metadata": {
    "colab": {},
    "colab_type": "code",
    "id": "Ygg6dX_Iwmmw"
   },
   "outputs": [],
   "source": [
    "pny = [path for path in gadgets_dir if len(path.split(\".\")) == 3]"
   ]
  },
  {
   "cell_type": "code",
   "execution_count": 0,
   "metadata": {
    "colab": {},
    "colab_type": "code",
    "id": "mI0mPLsVxTJ_"
   },
   "outputs": [],
   "source": [
    "len(pny)"
   ]
  },
  {
   "cell_type": "code",
   "execution_count": 0,
   "metadata": {
    "colab": {},
    "colab_type": "code",
    "id": "Z4xMrGZVxVbP"
   },
   "outputs": [],
   "source": [
    "photos = [path for path in gadgets_dir if len(path.split(\".\")) == 2]"
   ]
  },
  {
   "cell_type": "code",
   "execution_count": 0,
   "metadata": {
    "colab": {},
    "colab_type": "code",
    "id": "a3Yzl1IAylbw"
   },
   "outputs": [],
   "source": [
    "len(photos)"
   ]
  },
  {
   "cell_type": "code",
   "execution_count": 0,
   "metadata": {
    "colab": {},
    "colab_type": "code",
    "id": "lg_r2-eNIEoS"
   },
   "outputs": [],
   "source": [
    "google_dataset = \"/content/drive/Shared drives/AISight/Google Dataset\""
   ]
  },
  {
   "cell_type": "code",
   "execution_count": 0,
   "metadata": {
    "colab": {},
    "colab_type": "code",
    "id": "-fwJrtuyyobC"
   },
   "outputs": [],
   "source": [
    "google_dataset = \"/content/drive/Shared drives/AISight/Google Dataset\"\n",
    "if 'gadgets_photos_pny' not in os.listdir(google_dataset):\n",
    "  os.mkdir(os.gadgets_photos_pnypath.join(google_dataset, \"gadgets_photos_pny\"))"
   ]
  },
  {
   "cell_type": "code",
   "execution_count": 0,
   "metadata": {
    "colab": {},
    "colab_type": "code",
    "id": "YB0NT0Bzz0-a"
   },
   "outputs": [],
   "source": [
    "for p in pny:\n",
    "  copyfile(photos_dir + \"/\" + p.split(\".\")[0] + \".jpg\" , google_dataset + \"/\" \"gadgets_photos_pny\" + \"/\" + p.split(\".\")[0] + \".jpg\")\n",
    "  copyfile(photos_dir + \"/\" + p, google_dataset + \"/\" \"gadgets_photos_pny\" + \"/\" + p )"
   ]
  },
  {
   "cell_type": "code",
   "execution_count": 0,
   "metadata": {
    "colab": {},
    "colab_type": "code",
    "id": "X3YxoUqh2Kow"
   },
   "outputs": [],
   "source": [
    "# train_captions, img_name_vector\n",
    "photos_from_pny = [item for item in os.listdir(os.path.join(google_dataset, \"gadgets_photos_pny\")) if len(item.split(\".\")) == 2]\n",
    "photos_from_pny = list(set(photos_from_pny))\n",
    "print(len(photos_from_pny))\n",
    "final_captions = []\n",
    "final_name_vector = []\n",
    "for p in phot/conimage_modeltent/drive/Shared drives/AISight/Google Dataset/gadgetsos_from_pny:\n",
    "  index = img_name_vector.index(photos_dir + \"/\" + p)\n",
    "  final_captions.append(train_captions[index])\n",
    "  final_name_vector.append(img_name_vector[index])"
   ]
  },
  {
   "cell_type": "code",
   "execution_count": 0,
   "metadata": {
    "colab": {},
    "colab_type": "code",
    "id": "n-cYYgBZFDu1"
   },
   "outputs": [],
   "source": [
    "final_captions[:5], final_name_vector[:5]"
   ]
  },
  {
   "cell_type": "code",
   "execution_count": 0,
   "metadata": {
    "colab": {},
    "colab_type": "code",
    "id": "opZvgCmZFSUU"
   },
   "outputs": [],
   "source": [
    "Image.open(final_name_vector[1])"
   ]
  },
  {
   "cell_type": "code",
   "execution_count": 0,
   "metadata": {
    "colab": {},
    "colab_type": "code",
    "id": "zRyzNtKf4TYK"
   },
   "outputs": [],
   "source": [
    "del train_captions\n",
    "del img_name_vector"
   ]
  },
  {
   "cell_type": "code",
   "execution_count": 0,
   "metadata": {
    "colab": {},
    "colab_type": "code",
    "id": "i56Rt8PQ4Yvh"
   },
   "outputs": [],
   "source": [
    "train_captions = final_captionsimage_model\n",
    "img_name_vector = final_name_vector "
   ]
  },
  {
   "cell_type": "code",
   "execution_count": 0,
   "metadata": {
    "colab": {},
    "colab_type": "code",
    "id": "0T4hlOESIqL6"
   },
   "outputs": [],
   "source": [
    "temp = []\n",
    "for i in range(len(img_name_vector)):\n",
    "  temp.append(google_dataset + \"/\" + \"gadgets_photos_pny/\" + img_name_vector[i].split(\"/\")[-1])"
   ]
  },
  {
   "cell_type": "code",
   "execution_count": 0,
   "metadata": {
    "colab": {},
    "colab_type": "code",
    "id": "RApSm-TVJWXx"
   },
   "outputs": [],
   "source": [
    "img_name_vector[:2], temp[:2], len(img_name_vector), len(temp)"
   ]
  },
  {
   "cell_type": "code",
   "execution_count": 0,
   "metadata": {
    "colab": {},
    "colab_type": "code",
    "id": "NXOG6EEPJb6n"
   },
   "outputs": [],
   "source": [
    "del img_name_vector\n",
    "img_name_vector = temp"
   ]
  },
  {
   "cell_type": "code",
   "execution_count": 0,
   "metadata": {
    "colab": {},
    "colab_type": "code",
    "id": "ybM1BKmXMDho"
   },
   "outputs": [],
   "source": [
    "del temp"
   ]
  },
  {
   "cell_type": "code",
   "execution_count": 0,
   "metadata": {
    "colab": {},
    "colab_type": "code",
    "id": "Hm6vl9vGKIIK"
   },
   "outputs": [],
   "source": [
    "temp = [path.split(\".\")[0] for path in os.listdir(google_dataset + \"/\" + \"gadgets_photos_pny\")]\n",
    "# temp = list(set(temp))\n",
    "print(len(temp))\n",
    "# for path in temp:\n",
    "#   if temp.count(path) == 2:\n",
    "#     continue\n",
    "#   else:\n",
    "#     os.remove(google_dataset + \"/\" + \"gadgets_photos_pny/\" + path + \".jpg\")"
   ]
  },
  {
   "cell_type": "markdown",
   "metadata": {
    "colab_type": "text",
    "id": "eC4lc0lAsx9A"
   },
   "source": [
    "## Make .npy files"
   ]
  },
  {
   "cell_type": "code",
   "execution_count": 0,
   "metadata": {
    "colab": {},
    "colab_type": "code",
    "id": "laX2wb_OszYL"
   },
   "outputs": [],
   "source": [
    "num_thread = 7\n",
    "per_thread_photos = int(len(list(set(img_name_vector)))/num_thread)\n",
    "print(per_thread_photos)"
   ]
  },
  {
   "cell_type": "code",
   "execution_count": 0,
   "metadata": {
    "colab": {},
    "colab_type": "code",
    "id": "D-Gx34tTs26o"
   },
   "outputs": [],
   "source": [
    "def save_photos_as_numpy(start, end):\n",
    "  \n",
    "  # Get unique images\n",
    "  encode_train = sorted(set(img_name_vector[start:end]))\n",
    "\n",
    "  # Feel free to change batch_size according to your system configuration\n",
    "  image_dataset = tf.data.Dataset.from_tensor_slices(encode_train)\n",
    "  image_dataset = image_dataset.map(\n",
    "    load_image, num_parallel_calls=tf.data.experimental.AUTOTUNE).batch(16)\n",
    "\n",
    "  bar = progressbar.ProgressBar(max_value=(end-start))\n",
    "\n",
    "  count = 0\n",
    "  for i, (img, path) in zip(range(start, end), image_dataset):\n",
    "    if os.path.exists(path):\n",
    "      count += 1\n",
    "      continue\n",
    "    batch_features = image_features_extract_model(img)\n",
    "    batch_features = tf.reshape(batch_features,\n",
    "                                (batch_features.shape[0], -1, batch_features.shape[3]))\n",
    "\n",
    "    for bf, p in zip(batch_features, path):\n",
    "      path_of_feature = p.numpy().decode(\"utf-8\")\n",
    "      np.save(path_of_feature, bf.numpy())\n",
    "    if count % 25 == 0:\n",
    "      print(count)\n",
    "    bar.update(i-start)"
   ]
  },
  {
   "cell_type": "code",
   "execution_count": 0,
   "metadata": {
    "colab": {},
    "colab_type": "code",
    "id": "O_9nzsKjs5jy"
   },
   "outputs": [],
   "source": [
    "t = []\n",
    "for i in range(num_thread):\n",
    "    arg1 = i * per_thread_photos\n",
    "    if i == (num_thread-1):\n",
    "        arg2 = len(list(set(img_name_vector)))\n",
    "    else:\n",
    "        arg2 = i * per_thread_photos + per_thread_photos\n",
    "    # print(arg1, arg2)\n",
    "    t.append(threading.Thread(target=save_photos_as_numpy, args=(arg1, arg2, )))\n",
    "    t[i].start()\n",
    "        \n",
    "for i in range(num_thread):\n",
    "    t[i].join()"
   ]
  },
  {
   "cell_type": "code",
   "execution_count": 0,
   "metadata": {
    "colab": {},
    "colab_type": "code",
    "id": "_bAKPut7u213"
   },
   "outputs": [],
   "source": [
    "encode_train = sorted(set(img_name_vector))\n",
    "\n",
    "# Feel free to change batch_size according to your system configuration\n",
    "image_dataset = tf.data.Dataset.from_tensor_slices(encode_train)\n",
    "image_dataset = image_dataset.map(\n",
    "  load_image, num_parallel_calls=tf.data.experimental.AUTOTUNE).batch(16)\n",
    "\n",
    "# bar = progressbar.ProgressBar(max_value=(end-start))\n",
    "\n",
    "for img, path in image_dataset:\n",
    "  batch_features = image_features_extract_model(img)\n",
    "  batch_features = tf.reshape(batch_features,\n",
    "                              (batch_features.shape[0], -1, batch_features.shape[3]))\n",
    "\n",
    "  for bf, p in zip(batch_features, path):\n",
    "    path_of_feature = p.numpy().decode(\"utf-8\")\n",
    "    np.save(path_of_feature, bf.numpy())\n",
    "  # bar.update(i-start)"
   ]
  },
  {
   "cell_type": "markdown",
   "metadata": {
    "colab_type": "text",
    "id": "nyqH3zFwRPFi"
   },
   "source": [
    "## Preprocess and tokenize the captions\n",
    "\n",
    "* First, you'll tokenize the captions (for example, by splitting on spaces). This gives us a  vocabulary of all of the unique words in the data (for example, \"surfing\", \"football\", and so on).\n",
    "* Next, you'll limit the vocabulary size to the top 5,000 words (to save memory). You'll replace all other words with the token \"UNK\" (unknown).\n",
    "* You then create word-to-index and index-to-word mappings.\n",
    "* Finally, you pad all sequences to be the same length as the longest one."
   ]
  },
  {
   "cell_type": "code",
   "execution_count": 0,
   "metadata": {
    "colab": {},
    "colab_type": "code",
    "id": "HZfK8RhQRPFj"
   },
   "outputs": [],
   "source": [
    "# Find the maximum length of any caption in our dataset\n",
    "def calc_max_length(tensor):\n",
    "    return max(len(t) for t in tensor)"
   ]
  },
  {
   "cell_type": "code",
   "execution_count": 0,
   "metadata": {
    "colab": {},
    "colab_type": "code",
    "id": "oJGE34aiRPFo"
   },
   "outputs": [],
   "source": [
    "# Choose thebar = progressbar.ProgressBar(max_value=(end-start)) top 5000 words from the vocabulary\n",
    "top_k = 5000\n",
    "tokenizer = tf.keras.preprocessing.text.Tokenizer(num_words=top_k,\n",
    "                                                  oov_token=\"<unk>\",\n",
    "                                                  filters='!\"#$%&()*+.,-/:;=?@[\\]^_`{|}~ ')\n",
    "tokenizer.fit_on_texts(train_captions)\n",
    "train_seqs = tokenizer.texts_to_sequences(train_captions)"
   ]
  },
  {
   "cell_type": "code",
   "execution_count": 0,
   "metadata": {
    "colab": {},
    "colab_type": "code",
    "id": "8Q44tNQVRPFt"
   },
   "outputs": [],
   "source": [
    "tokenizer.word_index['<pad>'] = 0\n",
    "tokenizer.index_word[0] = '<pad>'"
   ]
  },
  {
   "cell_type": "code",
   "execution_count": 0,
   "metadata": {
    "colab": {},
    "colab_type": "code",
    "id": "0fpJb5ojRPFv"
   },
   "outputs": [],
   "source": [
    "# Create the tokenized vectors\n",
    "train_seqs = tokenizer.texts_to_sequences(train_captions)"
   ]
  },
  {
   "cell_type": "code",
   "execution_count": 0,
   "metadata": {
    "colab": {},
    "colab_type": "code",
    "id": "AidglIZVRPF4"
   },
   "outputs": [],
   "source": [
    "# Pad each vector to the max_length of the captions\n",
    "# If you do not provide a max_length value, pad_sequences calculates it automatically\n",
    "cap_vector = tf.keras.preprocessing.sequence.pad_sequences(train_seqs, padding='post')"
   ]
  },
  {
   "cell_type": "code",
   "execution_count": 0,
   "metadata": {
    "colab": {},
    "colab_type": "code",
    "id": "gL0wkttkRPGA"
   },
   "outputs": [],
   "source": [
    "# Calculates the max_length, which is used to store the attention weights\n",
    "max_length = calc_max_length(train_seqs)"
   ]
  },
  {
   "cell_type": "markdown",
   "metadata": {
    "colab_type": "text",
    "id": "M3CD75nDpvTI"
   },
   "source": [
    "## Split the data into training and testing"
   ]
  },
  {
   "cell_type": "code",
   "execution_count": 0,
   "metadata": {
    "colab": {},
    "colab_type": "code",
    "id": "iS7DDMszRPGF"
   },
   "outputs": [],
   "source": [
    "# Create training and validation sets using an 80-20 split\n",
    "img_name_train, img_name_val, cap_train, cap_val = train_test_split(img_name_vector,\n",
    "                                                                    cap_vector,\n",
    "                                                                    test_size=0.2,\n",
    "                                                                    random_state=0)"
   ]
  },
  {
   "cell_type": "code",
   "execution_count": 0,
   "metadata": {
    "colab": {},
    "colab_type": "code",
    "id": "XmViPkRFRPGH"
   },
   "outputs": [],
   "source": [
    "len(img_name_train), len(cap_train), len(img_name_val), len(cap_val)"
   ]
  },
  {
   "cell_type": "code",
   "execution_count": 0,
   "metadata": {
    "colab": {},
    "colab_type": "code",
    "id": "Gpms8xB3SX_N"
   },
   "outputs": [],
   "source": [
    "img_name_train[0]"
   ]
  },
  {
   "cell_type": "markdown",
   "metadata": {
    "colab_type": "text",
    "id": "uEWM9xrYcg45"
   },
   "source": [
    "## Create a tf.data dataset for training\n",
    "\n"
   ]
  },
  {
   "cell_type": "markdown",
   "metadata": {
    "colab_type": "text",
    "id": "horagNvhhZiy"
   },
   "source": [
    " Our images and captions are ready! Next, let's create a tf.data dataset to use for training our model."
   ]
  },
  {
   "cell_type": "code",
   "execution_count": 0,
   "metadata": {
    "colab": {},
    "colab_type": "code",
    "id": "Q3TnZ1ToRPGV"
   },
   "outputs": [],
   "source": [
    "# Feel free to change these parameters according to your system's configuration\n",
    "\n",
    "BATCH_SIZE = 64\n",
    "BUFFER_SIZE = 1000\n",
    "\n",
    "embedding_dim = 256\n",
    "units = 512\n",
    "vocab_size = len(tokenizer.word_index) + 1\n",
    "num_steps = len(img_name_train) // BATCH_SIZE\n",
    "# Shape of the vector extracted from InceptionV3 is (64, 2048)\n",
    "# These two variables represent that vector shape\n",
    "features_shape = 2048\n",
    "attention_features_shape = 64"
   ]
  },
  {
   "cell_type": "code",
   "execution_count": 0,
   "metadata": {
    "colab": {},
    "colab_type": "code",
    "id": "SmZS2N0bXG3T"
   },
   "outputs": [],
   "source": [
    "# Load the numpy files\n",
    "def map_func(img_name, cap):\n",
    "  img_tensor = np.load(img_name.decode('utf-8')+'.npy')\n",
    "  return img_tensor, cap"
   ]
  },
  {
   "cell_type": "code",
   "execution_count": 0,
   "metadata": {
    "colab": {},
    "colab_type": "code",
    "id": "FDF_Nm3tRPGZ"
   },
   "outputs": [],
   "source": [
    "dataset = tf.data.Dataset.from_tensor_slices((img_name_train, cap_train))\n",
    "\n",
    "# Use map to load the numpy files in parallel\n",
    "dataset = dataset.map(lambda item1, item2: tf.numpy_function(\n",
    "          map_func, [item1, item2], [tf.float32, tf.int32]),\n",
    "          num_parallel_calls=tf.data.experimental.AUTOTUNE)\n",
    "\n",
    "# Shuffle and batch\n",
    "dataset = dataset.shuffle(BUFFER_SIZE).batch(BATCH_SIZE)\n",
    "dataset = dataset.prefetch(buffer_size=tf.data.experimental.AUTOTUNE)"
   ]
  },
  {
   "cell_type": "markdown",
   "metadata": {
    "colab_type": "text",
    "id": "nrvoDphgRPGd"
   },
   "source": [
    "## Model\n",
    "\n",
    "Fun fact: the decoder below is identical to the one in the example for [Neural Machine Translation with Attention](../sequences/nmt_with_attention.ipynb).\n",
    "\n",
    "The model architecture is inspired by the [Show, Attend and Tell](https://arxiv.org/pdf/1502.03044.pdf) paper.\n",
    "\n",
    "* In this example, you extract the features from the lower convolutional layer of InceptionV3 giving us a vector of shape (8, 8, 2048).\n",
    "* You squash that to a shape of (64, 2048).\n",
    "* This vector is then passed through the CNN Encoder (which consists of a single Fully connected layer).\n",
    "* The RNN (here GRU) attends over the image to predict the next word."
   ]
  },
  {
   "cell_type": "code",
   "execution_count": 0,
   "metadata": {
    "colab": {},
    "colab_type": "code",
    "id": "ja2LFTMSdeV3"
   },
   "outputs": [],
   "source": [
    "class BahdanauAttention(tf.keras.Model):\n",
    "  def __init__(self, units):\n",
    "    super(BahdanauAttention, self).__init__()\n",
    "    self.W1 = tf.keras.layers.Dense(units)\n",
    "    self.W2 = tf.keras.layers.Dense(units)\n",
    "    self.V = tf.keras.layers.Dense(1)\n",
    "\n",
    "  def call(self, features, hidden):\n",
    "    # features(CNN_encoder output) shape == (batch_size, 64, embedding_dim)\n",
    "\n",
    "    # hidden shape == (batch_size, hidden_size)\n",
    "    # hidden_with_time_axis shape == (batch_size, 1, hidden_size)\n",
    "    hidden_with_time_axis = tf.expand_dims(hidden, 1)\n",
    "\n",
    "    # score shape == (batch_size, 64, hidden_size)\n",
    "    score = tf.nn.tanh(self.W1(features) + self.W2(hidden_with_time_axis))\n",
    "\n",
    "    # attention_weights shape == (batch_size, 64, 1)\n",
    "    # you get 1 at the last axis because you are applying score to self.V\n",
    "    attention_weights = tf.nn.softmax(self.V(score), axis=1)\n",
    "\n",
    "    # context_vector shape after sum == (batch_size, hidden_size)\n",
    "    context_vector = attention_weights * features\n",
    "    context_vector = tf.reduce_sum(context_vector, axis=1)\n",
    "\n",
    "    return context_vector, attention_weights"
   ]
  },
  {
   "cell_type": "code",
   "execution_count": 0,
   "metadata": {
    "colab": {},
    "colab_type": "code",
    "id": "AZ7R1RxHRPGf"
   },
   "outputs": [],
   "source": [
    "class CNN_Encoder(tf.keras.Model):\n",
    "    # Since you have already extracted the features and dumped it using pickle\n",
    "    # This encoder passes those features through a Fully connected layer\n",
    "    def __init__(self, embedding_dim):\n",
    "        super(CNN_Encoder, self).__init__()\n",
    "        # shape after fc == (batch_size, 64, embedding_dim)\n",
    "        self.fc = tf.keras.layers.Dense(embedding_dim)\n",
    "\n",
    "    def call(self, x):\n",
    "        x = self.fc(x)\n",
    "        x = tf.nn.relu(x)\n",
    "        return x"
   ]
  },
  {
   "cell_type": "code",
   "execution_count": 0,
   "metadata": {
    "colab": {},
    "colab_type": "code",
    "id": "V9UbGQmERPGi"
   },
   "outputs": [],
   "source": [
    "class RNN_Decoder(tf.keras.Model):\n",
    "  def __init__(self, embedding_dim, units, vocab_size):\n",
    "    super(RNN_Decoder, self).__init__()\n",
    "    self.units = units\n",
    "\n",
    "    self.embedding = tf.keras.layers.Embedding(vocab_size, embedding_dim)\n",
    "    self.gru = tf.keras.layers.GRU(self.units,\n",
    "                                   return_sequences=True,\n",
    "                                   return_state=True,\n",
    "                                   recurrent_initializer='glorot_uniform')\n",
    "    self.fc1 = tf.keras.layers.Dense(self.units)\n",
    "    self.fc2 = tf.keras.layers.Dense(vocab_size)\n",
    "\n",
    "    self.attention = BahdanauAttention(self.units)\n",
    "\n",
    "  def call(self, x, features, hidden):\n",
    "    # defining attention as a separate model\n",
    "    context_vector, attention_weights = self.attention(features, hidden)\n",
    "\n",
    "    # x shape after passing through embedding == (batch_size, 1, embedding_dim)\n",
    "    x = self.embedding(x)\n",
    "\n",
    "    # x shape after concatenation == (batch_size, 1, embedding_dim + hidden_size)\n",
    "    x = tf.concat([tf.expand_dims(context_vector, 1), x], axis=-1)\n",
    "\n",
    "    # passing the concatenated vector to the GRU\n",
    "    output, state = self.gru(x)\n",
    "\n",
    "    # shape == (batch_size, max_length, hidden_size)\n",
    "    x = self.fc1(output)\n",
    "\n",
    "    # x shape == (batch_size * max_length, hidden_size)\n",
    "    x = tf.reshape(x, (-1, x.shape[2]))\n",
    "\n",
    "    # output shape == (batch_size * max_length, vocab)\n",
    "    x = self.fc2(x)\n",
    "\n",
    "    return x, state, attention_weights\n",
    "\n",
    "  def reset_state(self, batch_size):\n",
    "    return tf.zeros((batch_size, self.units))"
   ]
  },
  {
   "cell_type": "code",
   "execution_count": 0,
   "metadata": {
    "colab": {},
    "colab_type": "code",
    "id": "Qs_Sr03wRPGk"
   },
   "outputs": [],
   "source": [
    "encoder = CNN_Encoder(embedding_dim)\n",
    "decoder = RNN_Decoder(embedding_dim, units, vocab_size)"
   ]
  },
  {
   "cell_type": "code",
   "execution_count": 0,
   "metadata": {
    "colab": {},
    "colab_type": "code",
    "id": "-bYN7xA0RPGl"
   },
   "outputs": [],
   "source": [
    "optimizer = tf.keras.optimizers.Adam()\n",
    "loss_object = tf.keras.losses.SparseCategoricalCrossentropy(\n",
    "    from_logits=True, reduction='none')\n",
    "\n",
    "def loss_function(real, pred):\n",
    "  mask = tf.math.logical_not(tf.math.equal(real, 0))\n",
    "  loss_ = loss_object(real, pred)\n",
    "\n",
    "  mask = tf.cast(mask, dtype=loss_.dtype)\n",
    "  loss_ *= mask\n",
    "\n",
    "  return tf.reduce_mean(loss_)"
   ]
  },
  {
   "cell_type": "markdown",
   "metadata": {
    "colab_type": "text",
    "id": "6A3Ni64joyab"
   },
   "source": [
    "## Checkpoint"
   ]
  },
  {
   "cell_type": "code",
   "execution_count": 0,
   "metadata": {
    "colab": {},
    "colab_type": "code",
    "id": "PpJAqPMWo0uE"
   },
   "outputs": [],
   "source": [
    "checkpoint_path = \"./checkpoints/train\"\n",
    "ckpt = tf.train.Checkpoint(encoder=encoder,\n",
    "                           decoder=decoder,\n",
    "                           optimizer = optimizer)\n",
    "ckpt_manager = tf.train.CheckpointManager(ckpt, checkpoint_path, max_to_keep=5)"
   ]
  },
  {
   "cell_type": "code",
   "execution_count": 0,
   "metadata": {
    "colab": {},
    "colab_type": "code",
    "id": "fUkbqhc_uObw"
   },
   "outputs": [],
   "source": [
    "start_epoch = 0\n",
    "if ckpt_manager.latest_checkpoint:\n",
    "  start_epoch = int(ckpt_manager.latest_checkpoint.split('-')[-1])"
   ]
  },
  {
   "cell_type": "markdown",
   "metadata": {
    "colab_type": "text",
    "id": "PHod7t72RPGn"
   },
   "source": [
    "## Training\n",
    "\n",
    "* You extract the features stored in the respective `.npy` files and then pass those features through the encoder.\n",
    "* The encoder output, hidden state(initialized to 0) and the decoder input (which is the start token) is passed to the decoder.\n",
    "* The decoder returns the predictions and the decoder hidden state.\n",
    "* The decoder hidden state is then passed back into the model and the predictions are used to calculate the loss.\n",
    "* Use teacher forcing to decide the next input to the decoder.\n",
    "* Teacher forcing is the technique where the target word is passed as the next input to the decoder.\n",
    "* The final step is to calculate the gradients and apply it to the optimizer and backpropagate.\n"
   ]
  },
  {
   "cell_type": "code",
   "execution_count": 0,
   "metadata": {
    "colab": {},
    "colab_type": "code",
    "id": "Vt4WZ5mhJE-E"
   },
   "outputs": [],
   "source": [
    "# adding this in a separate cell because if you run the training cell\n",
    "# many times, the loss_plot array will be reset\n",
    "loss_plot = []"
   ]
  },
  {
   "cell_type": "code",
   "execution_count": 0,
   "metadata": {
    "colab": {},
    "colab_type": "code",
    "id": "sqgyz2ANKlpU"
   },
   "outputs": [],
   "source": [
    "@tf.function\n",
    "def train_step(img_tensor, target):\n",
    "  loss = 0\n",
    "\n",
    "  # initializing the hidden state for each batch\n",
    "  # because the captions are not related from image to image\n",
    "  hidden = decoder.reset_state(batch_size=target.shape[0])\n",
    "\n",
    "  dec_input = tf.expand_dims([tokenizer.word_index['<start>']] * BATCH_SIZE, 1)\n",
    "\n",
    "  with tf.GradientTape() as tape:\n",
    "      features = encoder(img_tensor)\n",
    "\n",
    "      for i in range(1, target.shape[1]):\n",
    "          # passing the features through the decoder\n",
    "          predictions, hidden, _ = decoder(dec_input, features, hidden)\n",
    "\n",
    "          loss += loss_function(target[:, i], predictions)\n",
    "\n",
    "          # using teacher forcing\n",
    "          dec_input = tf.expand_dims(target[:, i], 1)\n",
    "\n",
    "  total_loss = (loss / int(target.shape[1]))\n",
    "\n",
    "  trainable_variables = encoder.trainable_variables + decoder.trainable_variables\n",
    "\n",
    "  gradients = tape.gradient(loss, trainable_variables)\n",
    "\n",
    "  optimizer.apply_gradients(zip(gradients, trainable_variables))\n",
    "  return loss, total_loss"
   ]
  },
  {
   "cell_type": "code",
   "execution_count": 0,
   "metadata": {
    "colab": {},
    "colab_type": "code",
    "id": "UlA4VIQpRPGo"
   },
   "outputs": [],
   "source": [
    "EPOCHS = 1\n",
    "\n",
    "for epoch in range(start_epoch, EPOCHS):\n",
    "    start = time.time()\n",
    "    total_loss = 0\n",
    "\n",
    "    for (batch, (img_tensor, target)) in enumerate(dataset):\n",
    "        try:\n",
    "          batch_loss, t_loss = train_step(img_tensor, target)\n",
    "          total_loss += t_loss\n",
    "        except:\n",
    "          continue\n",
    "\n",
    "        if batch % 100 == 0:\n",
    "            print ('Epoch {} Batch {} Loss {:.4f}'.format(\n",
    "              epoch + 1, batch, batch_loss.numpy() / int(target.shape[1])))\n",
    "    # storing the epoch end loss value to plot later\n",
    "    loss_plot.append(total_loss / num_steps)\n",
    "\n",
    "    # if epoch % 5 == 0:\n",
    "    #   ckpt_manager.save()\n",
    "    ckpt_manager.save()\n",
    "\n",
    "    print ('Epoch {} Loss {:.6f}'.format(epoch + 1,\n",
    "                                         total_loss/num_steps))\n",
    "    print ('Time taken for 1 epoch {} sec\\n'.format(time.time() - start))"
   ]
  },
  {
   "cell_type": "code",
   "execution_count": 0,
   "metadata": {
    "colab": {},
    "colab_type": "code",
    "id": "WI_d0ZerJvoE"
   },
   "outputs": [],
   "source": []
  },
  {
   "cell_type": "code",
   "execution_count": 0,
   "metadata": {
    "colab": {},
    "colab_type": "code",
    "id": "1Wm83G-ZBPcC"
   },
   "outputs": [],
   "source": [
    "plt.plot(loss_plot)\n",
    "plt.xlabel('Epochs')\n",
    "plt.ylabel('Loss')\n",
    "plt.title('Loss Plot')\n",
    "plt.show()"
   ]
  },
  {
   "cell_type": "markdown",
   "metadata": {
    "colab_type": "text",
    "id": "xGvOcLQKghXN"
   },
   "source": [
    "## Caption!\n",
    "\n",
    "* The evaluate function is similar to the training loop, except you don't use teacher forcing here. The input to the decoder at each time step is its previous predictions along with the hidden state and the encoder output.\n",
    "* Stop predicting when the model predicts the end token.\n",
    "* And store the attention weights for every time step."
   ]
  },
  {
   "cell_type": "code",
   "execution_count": 0,
   "metadata": {
    "colab": {},
    "colab_type": "code",
    "id": "RCWpDtyNRPGs"
   },
   "outputs": [],
   "source": [
    "def evaluate(image):\n",
    "    attention_plot = np.zeros((max_length, attention_features_shape))\n",
    "\n",
    "    hidden = decoder.reset_state(batch_size=1)\n",
    "\n",
    "    temp_input = tf.expand_dims(load_image(image)[0], 0)\n",
    "    img_tensor_val = image_features_extract_model(temp_input)\n",
    "    img_tensor_val = tf.reshape(img_tensor_val, (img_tensor_val.shape[0], -1, img_tensor_val.shape[3]))\n",
    "\n",
    "    features = encoder(img_tensor_val)\n",
    "\n",
    "    dec_input = tf.expand_dims([tokenizer.word_index['<start>']], 0)\n",
    "    result = []\n",
    "\n",
    "    for i in range(max_length):\n",
    "        predictions, hidden, attention_weights = decoder(dec_input, features, hidden)\n",
    "\n",
    "        attention_plot[i] = tf.reshape(attention_weights, (-1, )).numpy()\n",
    "\n",
    "        predicted_id = tf.argmax(predictions[0]).numpy()\n",
    "        result.append(tokenizer.index_word[predicted_id])\n",
    "\n",
    "        if tokenizer.index_word[predicted_id] == '<end>':\n",
    "            return result, attention_plot\n",
    "\n",
    "        dec_input = tf.expand_dims([predicted_id], 0)\n",
    "\n",
    "    attention_plot = attention_plot[:len(result), :]\n",
    "    return result, attention_plot"
   ]
  },
  {
   "cell_type": "code",
   "execution_count": 0,
   "metadata": {
    "colab": {},
    "colab_type": "code",
    "id": "fD_y7PD6RPGt"
   },
   "outputs": [],
   "source": [
    "def plot_attention(image, result, attention_plot):\n",
    "    temp_image = np.array(Image.open(image))\n",
    "\n",
    "    fig = plt.figure(figsize=(10, 10))\n",
    "\n",
    "    len_result = len(result)\n",
    "    for l in range(len_result):\n",
    "        temp_att = np.resize(attention_plot[l], (8, 8))\n",
    "        ax = fig.add_subplot(len_result//2, len_result//2, l+1)\n",
    "        ax.set_title(result[l])\n",
    "        img = ax.imshow(temp_image)\n",
    "        ax.imshow(temp_att, cmap='gray', alpha=0.6, extent=img.get_extent())\n",
    "\n",
    "    plt.tight_layout()\n",
    "    plt.show()"
   ]
  },
  {
   "cell_type": "code",
   "execution_count": 0,
   "metadata": {
    "colab": {},
    "colab_type": "code",
    "id": "7x8RiPHe_4qI"
   },
   "outputs": [],
   "source": [
    "# captions on the validation set\n",
    "rid = np.random.randint(0, len(img_name_val))\n",
    "image = img_name_val[rid]\n",
    "real_caption = ' '.join([tokenizer.index_word[i] for i in cap_val[rid] if i not in [0]])\n",
    "result, attention_plot = evaluate(image)\n",
    "\n",
    "print ('Real Caption:', real_caption)\n",
    "print ('Prediction Caption:', ' '.join(result))\n",
    "plot_attention(image, result, attention_plot)\n",
    "# opening the image\n",
    "Image.open(img_name_val[rid])"
   ]
  },
  {
   "cell_type": "markdown",
   "metadata": {
    "colab_type": "text",
    "id": "Rprk3HEvZuxb"
   },
   "source": [
    "## Try it on your own images\n",
    "For fun, below we've provided a method you can use to caption your own images with the model we've just trained. Keep in mind, it was trained on a relatively small amount of data, and your images may be different from the training data (so be prepared for weird results!)\n"
   ]
  },
  {
   "cell_type": "code",
   "execution_count": 0,
   "metadata": {
    "colab": {},
    "colab_type": "code",
    "id": "9Psd1quzaAWg"
   },
   "outputs": [],
   "source": [
    "# image_url = 'https://tensorflow.org/images/surf.jpg'\n",
    "# image_extension = image_url[-4:]\n",
    "# image_path = tf.keras.utils.get_file('image'+image_extension,\n",
    "#                                      origin=image_url)\n",
    "# image_path = os.path.join(photos_dir,\"1150.jpg\")\n",
    "# image_path = img_name_vector[13465]\n",
    "image_path = \"/content/IMG_20191104_194850.jpg\"\n",
    "im = Image.open(image_path)\n",
    "im.thumbnail((512,512), Image.ANTIALIAS)\n",
    "im.save(image_path, \"JPEG\")\n",
    "result, attention_plot = evaluate(image_path)\n",
    "print ('Prediction Caption:', ' '.join(result))\n",
    "# plot_attention(image_path, result, attention_plot)\n",
    "# opening the image\n",
    "Image.open(image_path)"
   ]
  },
  {
   "cell_type": "markdown",
   "metadata": {
    "colab_type": "text",
    "id": "VJZXyJco6uLO"
   },
   "source": [
    "# Next steps\n",
    "\n",
    "Congrats! You've just trained an image captioning model with attention. Next, take a look at this example [Neural Machine Translation with Attention](../sequences/nmt_with_attention.ipynb). It uses a similar architecture to translate between Spanish and English sentences. You can also experiment with training the code in this notebook on a different dataset."
   ]
  }
 ],
 "metadata": {
  "accelerator": "TPU",
  "colab": {
   "collapsed_sections": [],
   "machine_shape": "hm",
   "name": "Image_captioning.ipynb",
   "private_outputs": true,
   "provenance": [
    {
     "file_id": "https://github.com/tensorflow/docs/blob/r2.0rc/site/en/r2/tutorials/text/image_captioning.ipynb",
     "timestamp": 1572554052226
    }
   ],
   "toc_visible": true
  },
  "kernelspec": {
   "display_name": "Python 3",
   "language": "python",
   "name": "python3"
  },
  "language_info": {
   "codemirror_mode": {
    "name": "ipython",
    "version": 3
   },
   "file_extension": ".py",
   "mimetype": "text/x-python",
   "name": "python",
   "nbconvert_exporter": "python",
   "pygments_lexer": "ipython3",
   "version": "3.6.8"
  }
 },
 "nbformat": 4,
 "nbformat_minor": 1
}
